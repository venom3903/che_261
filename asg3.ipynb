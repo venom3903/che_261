{
  "cells": [
    {
      "cell_type": "markdown",
      "metadata": {
        "id": "g63cwkrkbw83"
      },
      "source": [
        ".csv files link: https://drive.google.com/drive/folders/1_61paubLpjXutt7jyuvjyjRapAdz8mH9?usp=sharing\n",
        "\n",
        "Submission link: https://forms.gle/UU4MuksSZqgNYeXK7\n",
        "\n",
        "Form closes at: 8:00PM, June 2nd 2023. You may continue to edit the assignment until 11:59PM, June 4th 2023.\n"
      ]
    },
    {
      "cell_type": "markdown",
      "metadata": {
        "id": "3k1Txf1vp1nV"
      },
      "source": [
        "# 1. Introduction\n"
      ]
    },
    {
      "cell_type": "markdown",
      "metadata": {
        "_uuid": "7ed04b1e7a00a7ad31ee98a7d8e55880e6274f29",
        "id": "NIyoa1bYp1nW"
      },
      "source": [
        "**Import all Necessary Libraries**"
      ]
    },
    {
      "cell_type": "code",
      "execution_count": null,
      "metadata": {
        "_uuid": "0f935bddcc5ca02702578e712bf7f396ba7154ef",
        "execution": {
          "iopub.execute_input": "2023-05-30T13:35:07.139351Z",
          "iopub.status.busy": "2023-05-30T13:35:07.139049Z",
          "iopub.status.idle": "2023-05-30T13:35:09.390491Z",
          "shell.execute_reply": "2023-05-30T13:35:09.389583Z",
          "shell.execute_reply.started": "2023-05-30T13:35:07.139296Z"
        },
        "id": "b39kNGuGp1nW",
        "trusted": true
      },
      "outputs": [],
      "source": [
        "import pandas as pd\n",
        "import numpy as np\n",
        "\n",
        "import matplotlib.pyplot as plt\n",
        "import seaborn as sns\n",
        "\n",
        "from sklearn.model_selection import train_test_split\n",
        "from sklearn.metrics import confusion_matrix\n",
        "\n",
        "import keras\n",
        "from keras.models import Sequential\n",
        "from keras.layers import Conv2D, Lambda, MaxPooling2D # convolution layers\n",
        "from keras.layers import Dense, Dropout, Flatten # core layers\n",
        "from tensorflow.keras.layers import BatchNormalization\n",
        "from keras.preprocessing.image import ImageDataGenerator\n",
        "\n",
        "from keras.utils.np_utils import to_categorical\n",
        "\n"
      ]
    },
    {
      "cell_type": "code",
      "execution_count": null,
      "metadata": {
        "colab": {
          "base_uri": "https://localhost:8080/"
        },
        "id": "h4AiDF4CU1kt",
        "outputId": "c83914ab-5e3e-438b-e521-b7abe2d74bbc"
      },
      "outputs": [
        {
          "name": "stdout",
          "output_type": "stream",
          "text": [
            "Drive already mounted at /content/drive; to attempt to forcibly remount, call drive.mount(\"/content/drive\", force_remount=True).\n"
          ]
        }
      ],
      "source": [
        "from google.colab import drive\n",
        "drive.mount('/content/drive')"
      ]
    },
    {
      "cell_type": "markdown",
      "metadata": {
        "_uuid": "f94870f1682c45b0e4ea378d287302656af3cf8e",
        "id": "g2jNt52Rp1nY"
      },
      "source": [
        "# 2. Data preparation\n",
        "## 2.1 Load data"
      ]
    },
    {
      "cell_type": "code",
      "execution_count": null,
      "metadata": {
        "execution": {
          "iopub.execute_input": "2023-05-30T13:36:27.341895Z",
          "iopub.status.busy": "2023-05-30T13:36:27.341562Z",
          "iopub.status.idle": "2023-05-30T13:36:33.751175Z",
          "shell.execute_reply": "2023-05-30T13:36:33.750294Z",
          "shell.execute_reply.started": "2023-05-30T13:36:27.341836Z"
        },
        "id": "jAUEqeo_p1nY",
        "trusted": true
      },
      "outputs": [],
      "source": [
        "train = pd.read_csv('train.csv')\n",
        "test = pd.read_csv('test.csv')\n",
        "sub = pd.read_csv('sample_submission.csv')"
      ]
    },
    {
      "cell_type": "code",
      "execution_count": null,
      "metadata": {
        "colab": {
          "base_uri": "https://localhost:8080/"
        },
        "execution": {
          "iopub.execute_input": "2023-05-30T13:36:37.018285Z",
          "iopub.status.busy": "2023-05-30T13:36:37.017930Z",
          "iopub.status.idle": "2023-05-30T13:36:37.024349Z",
          "shell.execute_reply": "2023-05-30T13:36:37.023155Z",
          "shell.execute_reply.started": "2023-05-30T13:36:37.018227Z"
        },
        "id": "O5mhCTJip1nY",
        "outputId": "9bfaef3d-43e9-4e21-e936-1d7c346b1199",
        "trusted": true
      },
      "outputs": [
        {
          "name": "stdout",
          "output_type": "stream",
          "text": [
            "Training data size is (42000, 785)\n",
            "Testing data size is (28000, 784)\n"
          ]
        }
      ],
      "source": [
        "print(f\"Training data size is {train.shape}\\nTesting data size is {test.shape}\")"
      ]
    },
    {
      "cell_type": "markdown",
      "metadata": {
        "id": "vT3sQM35p1nY"
      },
      "source": [
        "**Set data features and labels**"
      ]
    },
    {
      "cell_type": "code",
      "execution_count": null,
      "metadata": {
        "colab": {
          "base_uri": "https://localhost:8080/"
        },
        "execution": {
          "iopub.execute_input": "2023-05-30T13:36:39.661876Z",
          "iopub.status.busy": "2023-05-30T13:36:39.661470Z",
          "iopub.status.idle": "2023-05-30T13:36:39.853976Z",
          "shell.execute_reply": "2023-05-30T13:36:39.852421Z",
          "shell.execute_reply.started": "2023-05-30T13:36:39.661806Z"
        },
        "id": "LzzT0HzSp1nZ",
        "outputId": "cbc7397f-f705-4737-b4c8-05fd17926a94",
        "trusted": true
      },
      "outputs": [
        {
          "name": "stderr",
          "output_type": "stream",
          "text": [
            "<ipython-input-65-a59f6058bd32>:1: FutureWarning: In a future version of pandas all arguments of DataFrame.drop except for the argument 'labels' will be keyword-only.\n",
            "  X = train.drop(['label'], 1).values\n"
          ]
        }
      ],
      "source": [
        "X = train.drop(['label'], 1).values\n",
        "y = train['label'].values"
      ]
    },
    {
      "cell_type": "markdown",
      "metadata": {
        "id": "wN8OzFUpp1nZ"
      },
      "source": [
        "## 2.2 Normalization"
      ]
    },
    {
      "cell_type": "markdown",
      "metadata": {
        "id": "cSLENzq6p1nZ"
      },
      "source": [
        "The activation values of X range from 0 to 255.\n",
        "Normalize them to have a range of 0 to 1\n",
        "\n"
      ]
    },
    {
      "cell_type": "code",
      "execution_count": null,
      "metadata": {
        "execution": {
          "iopub.execute_input": "2023-05-30T13:36:43.087586Z",
          "iopub.status.busy": "2023-05-30T13:36:43.087276Z",
          "iopub.status.idle": "2023-05-30T13:36:43.327014Z",
          "shell.execute_reply": "2023-05-30T13:36:43.326084Z",
          "shell.execute_reply.started": "2023-05-30T13:36:43.087534Z"
        },
        "id": "I_ohF5YMp1na",
        "trusted": true
      },
      "outputs": [],
      "source": [
        "X = X/255.0"
      ]
    },
    {
      "cell_type": "markdown",
      "metadata": {
        "id": "BmRMh_2bp1na"
      },
      "source": [
        "## 2.3 Reshape"
      ]
    },
    {
      "cell_type": "code",
      "execution_count": null,
      "metadata": {
        "colab": {
          "base_uri": "https://localhost:8080/"
        },
        "execution": {
          "iopub.execute_input": "2023-05-30T13:36:44.643985Z",
          "iopub.status.busy": "2023-05-30T13:36:44.643672Z",
          "iopub.status.idle": "2023-05-30T13:36:44.648329Z",
          "shell.execute_reply": "2023-05-30T13:36:44.647270Z",
          "shell.execute_reply.started": "2023-05-30T13:36:44.643928Z"
        },
        "id": "SeA3Saobp1na",
        "outputId": "dd61441c-a645-4d39-e00f-07af099ea7b3",
        "trusted": true
      },
      "outputs": [
        {
          "data": {
            "text/plain": [
              "(42000, 28, 28, 1)"
            ]
          },
          "execution_count": 67,
          "metadata": {},
          "output_type": "execute_result"
        }
      ],
      "source": [
        "# Reshape image in 3 dimensions (height = 28px, width = 28px , canal = 1)\n",
        "# canal = 1 => For gray scale\n",
        "# desired X.shape = (42000, 28, 28, 1)\n",
        "X = X.reshape(-1,28,28,1)\n",
        "X.shape"
      ]
    },
    {
      "cell_type": "markdown",
      "metadata": {
        "id": "2EOA8NLfp1na"
      },
      "source": [
        "## 2.4 Label encoding"
      ]
    },
    {
      "cell_type": "markdown",
      "metadata": {
        "id": "gWkiXWp4p1na"
      },
      "source": [
        "**One-Hot Encoding**"
      ]
    },
    {
      "cell_type": "code",
      "execution_count": null,
      "metadata": {
        "colab": {
          "base_uri": "https://localhost:8080/"
        },
        "execution": {
          "iopub.execute_input": "2023-05-30T13:36:46.972388Z",
          "iopub.status.busy": "2023-05-30T13:36:46.972062Z",
          "iopub.status.idle": "2023-05-30T13:36:46.978845Z",
          "shell.execute_reply": "2023-05-30T13:36:46.978045Z",
          "shell.execute_reply.started": "2023-05-30T13:36:46.972334Z"
        },
        "id": "1zsH-tgCp1nb",
        "outputId": "003835ae-571d-434e-a729-beb00e1863b0",
        "trusted": true
      },
      "outputs": [
        {
          "name": "stdout",
          "output_type": "stream",
          "text": [
            "Label size (42000, 10)\n"
          ]
        }
      ],
      "source": [
        "# Encode labels to one hot vectors (ex : 2 -> [0,0,1,0,0,0,0,0,0,0])\n",
        "y = to_categorical(y) # You should use Keras to do this\n",
        "# previous y.shape = (42000, 1)\n",
        "print(f\"Label size {y.shape}\")"
      ]
    },
    {
      "cell_type": "markdown",
      "metadata": {
        "id": "GW1ekuA8p1nb"
      },
      "source": [
        "Labels are 10 digits numbers from 0 to 9. We need to encode these lables to one hot vectors (ex : 2 -> [0,0,1,0,0,0,0,0,0,0])."
      ]
    },
    {
      "cell_type": "markdown",
      "metadata": {
        "id": "ZR4kfsiDp1nb"
      },
      "source": [
        "## 2.5 Split training and valdiation set"
      ]
    },
    {
      "cell_type": "code",
      "execution_count": null,
      "metadata": {
        "execution": {
          "iopub.execute_input": "2023-05-30T13:36:50.039730Z",
          "iopub.status.busy": "2023-05-30T13:36:50.039409Z",
          "iopub.status.idle": "2023-05-30T13:36:50.699979Z",
          "shell.execute_reply": "2023-05-30T13:36:50.699165Z",
          "shell.execute_reply.started": "2023-05-30T13:36:50.039673Z"
        },
        "id": "T7n4h2pDp1nb",
        "trusted": true
      },
      "outputs": [],
      "source": [
        "# Split the train and the validation set for the fitting\n",
        "# Decide the val_size and read more about random_state https://stackoverflow.com/questions/28064634/random-state-pseudo-random-number-in-scikit-learn\n",
        "from sklearn.model_selection import train_test_split\n",
        "X_train, X_val, y_train, y_val = train_test_split(X, y, test_size=0.1, random_state=0)"
      ]
    },
    {
      "cell_type": "code",
      "execution_count": null,
      "metadata": {
        "colab": {
          "base_uri": "https://localhost:8080/"
        },
        "execution": {
          "iopub.execute_input": "2023-05-30T13:36:51.760629Z",
          "iopub.status.busy": "2023-05-30T13:36:51.760318Z",
          "iopub.status.idle": "2023-05-30T13:36:51.768123Z",
          "shell.execute_reply": "2023-05-30T13:36:51.767266Z",
          "shell.execute_reply.started": "2023-05-30T13:36:51.760573Z"
        },
        "id": "6E2OBaWdp1nb",
        "outputId": "c5f5ca67-e9c2-4cbe-817b-b2508c5ef42c",
        "trusted": true
      },
      "outputs": [
        {
          "data": {
            "text/plain": [
              "((37800, 28, 28, 1), (4200, 28, 28, 1), (37800, 10), (4200, 10))"
            ]
          },
          "execution_count": 70,
          "metadata": {},
          "output_type": "execute_result"
        }
      ],
      "source": [
        "X_train.shape, X_val.shape, y_train.shape, y_val.shape # Can you explain these numbers based on the val_size that you set?"
      ]
    },
    {
      "cell_type": "markdown",
      "metadata": {
        "id": "N3mPRO2op1nc"
      },
      "source": [
        "I choosed to split the train set in two parts : a small fraction (10%) became the validation set which the model is evaluated and the rest (90%) is used to train the model."
      ]
    },
    {
      "cell_type": "markdown",
      "metadata": {
        "_uuid": "d9f73cd8890cc89d03837ef47210b27b94b156dc",
        "id": "5NjgI5nFp1nc"
      },
      "source": [
        "**Data Visualization**"
      ]
    },
    {
      "cell_type": "code",
      "execution_count": null,
      "metadata": {
        "_uuid": "d00d9b96668d11a33c272b2b64cbb4397dcbba89",
        "colab": {
          "base_uri": "https://localhost:8080/",
          "height": 395
        },
        "execution": {
          "iopub.execute_input": "2023-05-30T13:36:54.244302Z",
          "iopub.status.busy": "2023-05-30T13:36:54.243937Z",
          "iopub.status.idle": "2023-05-30T13:36:55.235756Z",
          "shell.execute_reply": "2023-05-30T13:36:55.234929Z",
          "shell.execute_reply.started": "2023-05-30T13:36:54.244244Z"
        },
        "id": "_yeEL8yxp1nc",
        "outputId": "b1cbc054-e8e5-442e-899c-7157ba7719a3",
        "scrolled": true,
        "trusted": true
      },
      "outputs": [
        {
          "data": {
            "image/png": "[encoded data removed]",
            "text/plain": [
              "<Figure size 2000x1000 with 4 Axes>"
            ]
          },
          "metadata": {},
          "output_type": "display_data"
        }
      ],
      "source": [
        "X_train__ = X_train.reshape(X_train.shape[0], 28, 28)\n",
        "\n",
        "fig, axis = plt.subplots(1, 4, figsize=(20, 10))\n",
        "for i, ax in enumerate(axis.flat):\n",
        "    ax.imshow(X_train__[i], cmap='binary')\n",
        "    digit = y_train[i].argmax()\n",
        "    ax.set(title = f\"Real Number is {digit}\");"
      ]
    },
    {
      "cell_type": "markdown",
      "metadata": {
        "_uuid": "a4f73e65842423bae7cfce945cd4dc0e367c180a",
        "id": "_MyDZGckp1nc"
      },
      "source": [
        "**Normalization**"
      ]
    },
    {
      "cell_type": "code",
      "execution_count": null,
      "metadata": {
        "_uuid": "82bddf135bfad1d3f91b52cd0cadb62e55db964b",
        "execution": {
          "iopub.execute_input": "2023-05-30T13:36:59.339522Z",
          "iopub.status.busy": "2023-05-30T13:36:59.339191Z",
          "iopub.status.idle": "2023-05-30T13:36:59.595246Z",
          "shell.execute_reply": "2023-05-30T13:36:59.594446Z",
          "shell.execute_reply.started": "2023-05-30T13:36:59.339469Z"
        },
        "id": "ljKCdpNRp1nd",
        "trusted": true
      },
      "outputs": [],
      "source": [
        "mean = np.mean(X_train)\n",
        "std = np.std(X_train)\n",
        "\n",
        "def standardize(x):\n",
        "    return (x-mean)/std # Normalize x using mean and std"
      ]
    },
    {
      "cell_type": "markdown",
      "metadata": {
        "id": "hkZMrZTgp1nd"
      },
      "source": [
        "# 3. CNN\n",
        "## 3.1 Define the model"
      ]
    },
    {
      "cell_type": "markdown",
      "metadata": {
        "id": "p0H9fDmJp1nd"
      },
      "source": []
    },
    {
      "cell_type": "markdown",
      "metadata": {
        "_uuid": "57904be2d2935cece025811c128ca6738cf86800",
        "id": "dI80Ue2xp1nd"
      },
      "source": [
        "**Model Definition**"
      ]
    },
    {
      "cell_type": "code",
      "execution_count": null,
      "metadata": {
        "_uuid": "e935c979b0715a68bc8739e6a31f5d9a8189a750",
        "execution": {
          "iopub.execute_input": "2023-05-30T13:37:03.545937Z",
          "iopub.status.busy": "2023-05-30T13:37:03.545614Z",
          "iopub.status.idle": "2023-05-30T13:37:05.671867Z",
          "shell.execute_reply": "2023-05-30T13:37:05.671134Z",
          "shell.execute_reply.started": "2023-05-30T13:37:03.545879Z"
        },
        "id": "eFoBK3uGp1nd",
        "trusted": true
      },
      "outputs": [],
      "source": [
        "# Change the layers of the model\n",
        "# Add padding and strides wherever required\n",
        "\n",
        "model=Sequential()\n",
        "\n",
        "model.add(Conv2D(filters=64, kernel_size = (3,3),padding=\"same\", activation=\"relu\", input_shape=(28,28,1)))\n",
        "model.add(Conv2D(filters=64, kernel_size = (3,3), activation=\"relu\"))\n",
        "model.add(MaxPooling2D(pool_size=(2,2)))\n",
        "model.add(BatchNormalization())\n",
        "\n",
        "model.add(Conv2D(filters=128, kernel_size = (3,3),padding=\"same\", activation=\"relu\"))\n",
        "model.add(Conv2D(filters=128, kernel_size = (3,3), activation=\"relu\"))\n",
        "model.add(MaxPooling2D(pool_size=(2,2)))\n",
        "model.add(BatchNormalization())\n",
        "\n",
        "model.add(Conv2D(filters=256, kernel_size = (3,3),padding=\"same\", activation=\"relu\"))\n",
        "model.add(MaxPooling2D(pool_size=(2,2)))\n",
        "model.add(BatchNormalization())\n",
        "\n",
        "model.add(Flatten())\n",
        "model.add(Dense(512,activation=\"relu\"))\n",
        "\n",
        "model.add(Dense(10,activation=\"softmax\"))\n",
        "\n",
        "model.compile(loss=\"categorical_crossentropy\", optimizer=\"adam\", metrics=[\"accuracy\"])"
      ]
    },
    {
      "cell_type": "code",
      "execution_count": null,
      "metadata": {
        "colab": {
          "base_uri": "https://localhost:8080/"
        },
        "execution": {
          "iopub.execute_input": "2023-05-30T13:37:06.399326Z",
          "iopub.status.busy": "2023-05-30T13:37:06.398974Z",
          "iopub.status.idle": "2023-05-30T13:37:06.412585Z",
          "shell.execute_reply": "2023-05-30T13:37:06.411233Z",
          "shell.execute_reply.started": "2023-05-30T13:37:06.399271Z"
        },
        "id": "1fPtpp92p1ne",
        "outputId": "67fdca7f-140a-4640-e19f-8dcd685be7cd",
        "trusted": true
      },
      "outputs": [
        {
          "name": "stdout",
          "output_type": "stream",
          "text": [
            "Model: \"sequential_2\"\n",
            "_________________________________________________________________\n",
            " Layer (type)                Output Shape              Param #   \n",
            "=================================================================\n",
            " conv2d_10 (Conv2D)          (None, 28, 28, 64)        640       \n",
            "                                                                 \n",
            " conv2d_11 (Conv2D)          (None, 26, 26, 64)        36928     \n",
            "                                                                 \n",
            " max_pooling2d_5 (MaxPooling  (None, 13, 13, 64)       0         \n",
            " 2D)                                                             \n",
            "                                                                 \n",
            " batch_normalization_5 (Batc  (None, 13, 13, 64)       256       \n",
            " hNormalization)                                                 \n",
            "                                                                 \n",
            " conv2d_12 (Conv2D)          (None, 13, 13, 128)       73856     \n",
            "                                                                 \n",
            " conv2d_13 (Conv2D)          (None, 11, 11, 128)       147584    \n",
            "                                                                 \n",
            " max_pooling2d_6 (MaxPooling  (None, 5, 5, 128)        0         \n",
            " 2D)                                                             \n",
            "                                                                 \n",
            " batch_normalization_6 (Batc  (None, 5, 5, 128)        512       \n",
            " hNormalization)                                                 \n",
            "                                                                 \n",
            " conv2d_14 (Conv2D)          (None, 5, 5, 256)         295168    \n",
            "                                                                 \n",
            " max_pooling2d_7 (MaxPooling  (None, 2, 2, 256)        0         \n",
            " 2D)                                                             \n",
            "                                                                 \n",
            " batch_normalization_7 (Batc  (None, 2, 2, 256)        1024      \n",
            " hNormalization)                                                 \n",
            "                                                                 \n",
            " flatten_1 (Flatten)         (None, 1024)              0         \n",
            "                                                                 \n",
            " dense_2 (Dense)             (None, 512)               524800    \n",
            "                                                                 \n",
            " dense_3 (Dense)             (None, 10)                5130      \n",
            "                                                                 \n",
            "=================================================================\n",
            "Total params: 1,085,898\n",
            "Trainable params: 1,085,002\n",
            "Non-trainable params: 896\n",
            "_________________________________________________________________\n"
          ]
        }
      ],
      "source": [
        "model.summary()"
      ]
    },
    {
      "cell_type": "markdown",
      "metadata": {
        "_uuid": "5a9a1f37ef33b24887f97e7992b7d24567602eb8",
        "id": "FY_R4fpXp1nf"
      },
      "source": [
        "## 3.3 Model training"
      ]
    },
    {
      "cell_type": "code",
      "execution_count": null,
      "metadata": {
        "colab": {
          "base_uri": "https://localhost:8080/"
        },
        "execution": {
          "iopub.execute_input": "2023-05-30T13:37:45.843554Z",
          "iopub.status.busy": "2023-05-30T13:37:45.843235Z",
          "iopub.status.idle": "2023-05-30T13:38:29.115977Z",
          "shell.execute_reply": "2023-05-30T13:38:29.115291Z",
          "shell.execute_reply.started": "2023-05-30T13:37:45.843496Z"
        },
        "id": "cCT1Sbqrp1nf",
        "outputId": "246505c2-37a3-460c-9539-6b779c7d21ac",
        "trusted": true
      },
      "outputs": [
        {
          "name": "stdout",
          "output_type": "stream",
          "text": [
            "263/263 [==============================] - 310s 1s/step - loss: 0.0361 - accuracy: 0.9893 - val_loss: 0.0623 - val_accuracy: 0.9802\n"
          ]
        },
        {
          "data": {
            "text/plain": [
              "<keras.callbacks.History at 0x7fac1505ce20>"
            ]
          },
          "execution_count": 82,
          "metadata": {},
          "output_type": "execute_result"
        }
      ],
      "source": [
        "model.fit(X, y, batch_size=128, validation_split=0.2, epochs=1) # Change the batch_size and epochs\n",
        "# Number of images in X = 42000\n",
        "# Validation split = 20%, so the number of images undergoing training = 80% * 42000 = 33600 = 263 * 128"
      ]
    },
    {
      "cell_type": "markdown",
      "metadata": {
        "id": "487sAxmxp1ns"
      },
      "source": [
        "## 4.2 Confusion matrix"
      ]
    },
    {
      "cell_type": "code",
      "execution_count": null,
      "metadata": {
        "colab": {
          "base_uri": "https://localhost:8080/",
          "height": 867
        },
        "execution": {
          "iopub.execute_input": "2023-05-30T13:40:11.699266Z",
          "iopub.status.busy": "2023-05-30T13:40:11.698887Z",
          "iopub.status.idle": "2023-05-30T13:40:12.734065Z",
          "shell.execute_reply": "2023-05-30T13:40:12.733311Z",
          "shell.execute_reply.started": "2023-05-30T13:40:11.699203Z"
        },
        "id": "xjjyQgq7p1ns",
        "outputId": "9aa3dd9c-b7e7-4ad2-e425-20f16fb8af4e",
        "trusted": true
      },
      "outputs": [
        {
          "name": "stdout",
          "output_type": "stream",
          "text": [
            "132/132 [==============================] - 10s 75ms/step\n"
          ]
        },
        {
          "data": {
            "image/png": "[encoded data removed]",
            "text/plain": [
              "<Figure size 1000x1000 with 1 Axes>"
            ]
          },
          "metadata": {},
          "output_type": "display_data"
        }
      ],
      "source": [
        "fig = plt.figure(figsize=(10, 10)) # Set Figure\n",
        "\n",
        "y_pred = model.predict(X_val) # Predict class probabilities as 2 => [0.1, 0, 0.9, 0, 0, 0, 0, 0, 0, 0]\n",
        "\n",
        "Y_pred =  np.argmax(y_pred,1) # Decode Predicted labels\n",
        "Y_test = np.argmax(y_val, 1) # Decode labels\n",
        "\n",
        "mat = confusion_matrix(Y_test, Y_pred) # Confusion matrix\n",
        "\n",
        "# Plot Confusion matrix\n",
        "sns.heatmap(mat.T, square=True, annot=True, cbar=False, cmap=plt.cm.Blues, fmt='.0f')\n",
        "plt.xlabel('Predicted Values')\n",
        "plt.ylabel('True Values');\n",
        "plt.show();"
      ]
    },
    {
      "cell_type": "markdown",
      "metadata": {
        "id": "CB3OhcGhp1nt"
      },
      "source": [
        "# 5. Prediction and submission\n",
        "\n",
        "\n"
      ]
    },
    {
      "cell_type": "markdown",
      "metadata": {
        "id": "YY4ZwwcAp1nt"
      },
      "source": [
        "## 5.1 Prediction validation results"
      ]
    },
    {
      "cell_type": "code",
      "execution_count": null,
      "metadata": {
        "colab": {
          "base_uri": "https://localhost:8080/",
          "height": 1000
        },
        "execution": {
          "iopub.execute_input": "2023-05-30T13:40:17.596966Z",
          "iopub.status.busy": "2023-05-30T13:40:17.596620Z",
          "iopub.status.idle": "2023-05-30T13:40:20.645239Z",
          "shell.execute_reply": "2023-05-30T13:40:20.644132Z",
          "shell.execute_reply.started": "2023-05-30T13:40:17.596905Z"
        },
        "id": "ph8MbAPXp1nt",
        "outputId": "e17e12ae-23ce-4b4f-b767-80911fb9f8af",
        "trusted": true
      },
      "outputs": [
        {
          "name": "stdout",
          "output_type": "stream",
          "text": [
            "132/132 [==============================] - 9s 66ms/step\n"
          ]
        },
        {
          "data": {
            "image/png": "[encoded data removed]",
            "text/plain": [
              "<Figure size 1200x1400 with 16 Axes>"
            ]
          },
          "metadata": {},
          "output_type": "display_data"
        }
      ],
      "source": [
        "y_pred = model.predict(X_val)\n",
        "X_val__ = X_val.reshape(X_val.shape[0], 28, 28)\n",
        "\n",
        "fig, axis = plt.subplots(4, 4, figsize=(12, 14))\n",
        "for i, ax in enumerate(axis.flat):\n",
        "    ax.imshow(X_val__[i], cmap='binary')\n",
        "    ax.set(title = f\"Real Number is {y_val[i].argmax()}\\nPredict Number is {y_pred[i].argmax()}\");"
      ]
    },
    {
      "cell_type": "markdown",
      "metadata": {
        "id": "eLJZsp2Xp1nt"
      },
      "source": [
        "## 5.2 Submission"
      ]
    },
    {
      "cell_type": "code",
      "execution_count": null,
      "metadata": {
        "_uuid": "afcacfa4a023a9e01a61b5d7dcd051f0a439fa38",
        "colab": {
          "base_uri": "https://localhost:8080/"
        },
        "execution": {
          "iopub.execute_input": "2023-05-30T13:40:24.562570Z",
          "iopub.status.busy": "2023-05-30T13:40:24.562230Z",
          "iopub.status.idle": "2023-05-30T13:40:26.270899Z",
          "shell.execute_reply": "2023-05-30T13:40:26.270114Z",
          "shell.execute_reply.started": "2023-05-30T13:40:24.562508Z"
        },
        "id": "_Z2msJpfp1nu",
        "outputId": "f8de3434-1ede-47e1-a84c-641a803e5e8e",
        "trusted": true
      },
      "outputs": [
        {
          "name": "stdout",
          "output_type": "stream",
          "text": [
            "875/875 [==============================] - 63s 71ms/step\n"
          ]
        }
      ],
      "source": [
        "# preprocess test data\n",
        "test_x = test.values\n",
        "test_x = test_x/255.0  # Normalize the activation values from [0,255] to [0,1]\n",
        "test_x = test_x.reshape(-1,28,28,1) # Reshape the test data from 3 RGB channels to a single grayscale channel\n",
        "\n",
        "# predict test data\n",
        "pred = model.predict(test_x, verbose=1)"
      ]
    },
    {
      "cell_type": "code",
      "execution_count": null,
      "metadata": {
        "id": "9YG35HO2fNvp"
      },
      "outputs": [],
      "source": [
        "# submissions\n",
        "sub['Label'] = pred\n",
        "sub.to_csv(\"CNN_keras_sub.csv\", index=False)\n",
        "sub.head()"
      ]
    }
  ],
  "metadata": {
    "colab": {
      "provenance": []
    },
    "kernelspec": {
      "display_name": "Python 3",
      "language": "python",
      "name": "python3"
    },
    "language_info": {
      "codemirror_mode": {
        "name": "ipython",
        "version": 3
      },
      "file_extension": ".py",
      "mimetype": "text/x-python",
      "name": "python",
      "nbconvert_exporter": "python",
      "pygments_lexer": "ipython3",
      "version": "3.6.4"
    }
  },
  "nbformat": 4,
  "nbformat_minor": 0
}
